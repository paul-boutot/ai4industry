{
 "cells": [
  {
   "cell_type": "code",
   "execution_count": 1,
   "id": "e71d9d31",
   "metadata": {},
   "outputs": [],
   "source": [
    "import numpy as np\n",
    "import matplotlib.pyplot as plt\n",
    "import random as rand\n",
    "import pandas as pd\n",
    "import tensorflow as tf\n",
    "import math\n",
    "# import seaborn as sns\n",
    "# from keras.datasets import mnist\n",
    "# from keras.utils import np_utils\n",
    "from keras import models\n",
    "from keras import layers\n",
    "from tensorflow.keras import optimizers\n",
    "# from sklearn import metrics\n",
    "from sklearn.model_selection import train_test_split\n",
    "# from sklearn.preprocessing import scale\n",
    "from keras.models import load_model"
   ]
  },
  {
   "cell_type": "markdown",
   "id": "17a59408",
   "metadata": {},
   "source": [
    "## Applying noise and loading data"
   ]
  },
  {
   "cell_type": "code",
   "execution_count": 2,
   "id": "f497e140",
   "metadata": {},
   "outputs": [
    {
     "name": "stdout",
     "output_type": "stream",
     "text": [
      "<class 'pandas.core.frame.DataFrame'>\n",
      "RangeIndex: 8810 entries, 0 to 8809\n",
      "Data columns (total 7 columns):\n",
      " #   Column          Non-Null Count  Dtype  \n",
      "---  ------          --------------  -----  \n",
      " 0   shPitch         8810 non-null   float64\n",
      " 1   shRoll          8810 non-null   float64\n",
      " 2   handRemapPosX   8810 non-null   float64\n",
      " 3   handRemapPosY   8810 non-null   float64\n",
      " 4   handRemapPosZ   8810 non-null   float64\n",
      " 5   handRemapPitch  8810 non-null   float64\n",
      " 6   handRemapRoll   8810 non-null   float64\n",
      "dtypes: float64(7)\n",
      "memory usage: 481.9 KB\n"
     ]
    }
   ],
   "source": [
    "dfTrain_inputs = pd.read_csv(\"csv/data_seuillage_9hz/dfTrain_inputs.csv\")\n",
    "dfTest_inputs = pd.read_csv(\"csv/data_seuillage_9hz/dfTest_inputs.csv\")\n",
    "\n",
    "dfTrain_outputs = pd.read_csv(\"csv/data_seuillage_9hz/dfTrain_outputs.csv\")\n",
    "dfTest_outputs = pd.read_csv(\"csv/data_seuillage_9hz/dfTest_outputs.csv\")\n",
    "\n",
    "\n",
    "#drop the 1st column that corresponds to the index\n",
    "dfTrain_inputs = dfTrain_inputs.drop(dfTrain_inputs.columns[0], axis=1)\n",
    "dfTest_inputs = dfTest_inputs.drop(dfTest_inputs.columns[0], axis=1)\n",
    "\n",
    "dfTrain_outputs = dfTrain_outputs.drop(dfTrain_outputs.columns[0], axis=1)\n",
    "dfTest_outputs = dfTest_outputs.drop(dfTest_outputs.columns[0], axis=1)\n",
    "\n",
    "\n",
    "#removing input columns to test accuracy\n",
    "# nb_column = 6\n",
    "# dfTest_inputs = dfTest_inputs.drop(dfTest_inputs.columns[nb_column], axis = 1)\n",
    "# dfTrain_inputs = dfTrain_inputs.drop(dfTrain_inputs.columns[nb_column], axis = 1)\n",
    "\n",
    "# print(dfTrain_inputs.shape)\n",
    "# print(dfTest_inputs.shape)\n",
    "# print(dfTrain_outputs.shape)\n",
    "# print(dfTest_outputs.shape)\n",
    "\n",
    "def aleaGauss(sigma):\n",
    "    U1 = random.random()\n",
    "    U2 = random.random()\n",
    "    return sigma*math.sqrt(-2*math.log(U1))*math.cos(2*math.pi*U2) \n",
    "\n",
    "sigma = 0.05\n",
    "\n",
    "# apply a noise to the entire column specified\n",
    "for k in range(dfTest_inputs.shape[0]):\n",
    "    dfTest_inputs[\"handRemapPosX\"][k] += aleaGauss(sigma)\n",
    "#     dfTest_inputs[\"handRemapPosY\"][k] += aleaGauss(sigma)\n",
    "#     dfTest_inputs[\"handRemapPosZ\"][k] += aleaGauss(sigma)\n",
    "#     dfTest_inputs[\"handRemapPitch\"][k] += aleaGauss(sigma)\n",
    "#     dfTest_inputs[\"handRemapRoll\"][k] += aleaGauss(sigma)"
   ]
  },
  {
   "cell_type": "code",
   "execution_count": 3,
   "id": "b93899cd",
   "metadata": {},
   "outputs": [],
   "source": [
    "# Model\n",
    "# model = models.Sequential()\n",
    "\n",
    "# model.add(layers.Dense(dfTrain_inputs.shape[1], activation='relu', input_shape=(dfTrain_inputs.shape[1],)))\n",
    "# model.add(layers.Dense(256, activation='relu', input_shape=(dfTrain_inputs.shape[1],)))\n",
    "# model.add(layers.Dense(256, activation='relu'))\n",
    "# model.add(layers.Dense(5, activation='linear'))"
   ]
  },
  {
   "cell_type": "code",
   "execution_count": 4,
   "id": "898acd20",
   "metadata": {},
   "outputs": [],
   "source": [
    "# Compilation\n",
    "# model.compile(optimizer=optimizers.RMSprop(learning_rate=0.001), loss='mse',metrics=['accuracy'])\n",
    "# model.compile(optimizer=optimizers.Adam(learning_rate=0.001), loss='mse',metrics=['accuracy'] )\n",
    "# model.compile(optimizer=optimizers.RMSprop(learning_rate=0.001), loss='mse',metrics=['accuracy'])\n",
    "# model.compile(optimizer=optimizers.SGD(learning_rate=1.59*10**-7, momentum=0.95, nesterov=False, name=\"SGD\"), loss='mse',metrics=['accuracy'])"
   ]
  },
  {
   "cell_type": "code",
   "execution_count": 5,
   "id": "023ed312",
   "metadata": {
    "scrolled": true
   },
   "outputs": [],
   "source": [
    "# Entrainement du modèle\n",
    "# history = model.fit(dfTrain_inputs, dfTrain_outputs, epochs=20)\n",
    "\n",
    "# plt.plot(history.history[\"accuracy\"])\n",
    "# plt.show()"
   ]
  },
  {
   "cell_type": "markdown",
   "id": "e461845e",
   "metadata": {},
   "source": [
    "## Loading and evaluating model"
   ]
  },
  {
   "cell_type": "code",
   "execution_count": 6,
   "id": "a796a13f",
   "metadata": {},
   "outputs": [
    {
     "name": "stdout",
     "output_type": "stream",
     "text": [
      "276/276 [==============================] - 1s 1ms/step - loss: 0.0157 - accuracy: 0.9700\n",
      "Resultats apprentissage\n",
      "Valeur perte finale (loss) 0.015699539333581924\n",
      "Valeur de la précision(accuracy)) 0.9700340628623962\n"
     ]
    }
   ],
   "source": [
    "#unzip first\n",
    "model = load_model('modelG4_etude5')\n",
    "# # model.summary()\n",
    "\n",
    "# #save the model\n",
    "# # model.save(\"modelG4_etude5\")\n",
    "\n",
    "# Affichahe des résultats de l'évaluation du modèle\n",
    "results = model.evaluate(dfTest_inputs, dfTest_outputs)\n",
    "print('Resultats apprentissage')\n",
    "print ('Valeur perte finale (loss)', results[0])\n",
    "print ('Valeur de la précision(accuracy))', results[1])"
   ]
  },
  {
   "cell_type": "markdown",
   "id": "fabef7a0",
   "metadata": {},
   "source": [
    "## Plotting noise for different attributes"
   ]
  },
  {
   "cell_type": "code",
   "execution_count": 7,
   "id": "35a2b30b",
   "metadata": {},
   "outputs": [],
   "source": [
    "# results obtained from applying noise to different parameters\n",
    "# results_sigma005 = [93.4,89.0,93.4,96.5,96.7,85.5,96.3,85.7]\n",
    "# results_sigma01 = [88.2,80.5,88.4,95.5,95.8,73.9,94.3,74.6]\n",
    "# parameters = [\"handRemapPosX\", \"handRemapPosY\", \"handRemapPosZ\", \"handRemapPitch\", \"handRemapRoll\", \"X+Y+Z\", \"Pitch+Roll\", \"Everything\"]\n",
    "\n",
    "# plt.plot(parameters, results_sigma005)\n",
    "# plt.plot(parameters, results_sigma01)\n",
    "\n",
    "# plt.grid(True)\n",
    "# plt.legend([\"Sigma = 0.05\", \"Sigma = 0.1\"])\n",
    "# plt.xticks(ticks=range(len(parameters)), labels=parameters, rotation=90)\n",
    "# plt.ylabel(\"Accuracy in %\")\n",
    "# plt.savefig(\"Noise\", facecolor='w', bbox_inches=\"tight\")\n",
    "# plt.show()\n"
   ]
  }
 ],
 "metadata": {
  "kernelspec": {
   "display_name": "Python 3 (ipykernel)",
   "language": "python",
   "name": "python3"
  },
  "language_info": {
   "codemirror_mode": {
    "name": "ipython",
    "version": 3
   },
   "file_extension": ".py",
   "mimetype": "text/x-python",
   "name": "python",
   "nbconvert_exporter": "python",
   "pygments_lexer": "ipython3",
   "version": "3.8.6"
  }
 },
 "nbformat": 4,
 "nbformat_minor": 5
}
