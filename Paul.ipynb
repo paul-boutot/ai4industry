{
 "cells": [
  {
   "cell_type": "code",
   "execution_count": 1,
   "id": "f8f6d747",
   "metadata": {},
   "outputs": [],
   "source": [
    "import numpy as np\n",
    "import tensorflow as tf\n",
    "import random\n",
    "import pandas as pd\n",
    "import keras\n",
    "from keras import models\n",
    "from keras import layers\n",
    "import tensorflow as tf\n",
    "import matplotlib\n",
    "import matplotlib.pyplot as plt\n",
    "# from keras.datasets import mnist\n",
    "# from keras.utils import np_utils\n",
    "from tensorflow.keras import optimizers\n",
    "# from sklearn import metrics\n",
    "from sklearn.model_selection import train_test_split\n",
    "# from sklearn.preprocessing import scale"
   ]
  },
  {
   "cell_type": "code",
   "execution_count": 4,
   "id": "2aed95d3",
   "metadata": {},
   "outputs": [],
   "source": [
    "df = pd.read_csv(r\"C:\\Users\\paulb\\OneDrive\\Documents\\AI4Industry\\data\\corpus_students_only_validated_targets.csv\")"
   ]
  },
  {
   "cell_type": "code",
   "execution_count": 5,
   "id": "2cc4df7c",
   "metadata": {},
   "outputs": [],
   "source": [
    "## -- Take only reliable parameters -- ##\n",
    "df_sorted = df[['shPitch', 'shRoll','armYaw','elbPitch','forearmYaw','wriPitch','wriRoll','handRemapPosX','handRemapPosY','handRemapPosZ','handRemapPitch','handRemapRoll']]"
   ]
  },
  {
   "cell_type": "code",
   "execution_count": 6,
   "id": "040987fc",
   "metadata": {},
   "outputs": [],
   "source": [
    "## -- Convert 90HZ to 9Hz -- ##\n",
    "df_sorted_9Hz=df_sorted.iloc[::10, :]"
   ]
  },
  {
   "cell_type": "code",
   "execution_count": 7,
   "id": "f78cfc4c",
   "metadata": {},
   "outputs": [],
   "source": [
    "## -- Define I/Os -- ##\n",
    "input_features = ['shPitch','shRoll','handRemapPosX','handRemapPosY','handRemapPosZ','handRemapPitch','handRemapRoll']\n",
    "output_features = ['armYaw','elbPitch','forearmYaw','wriPitch','wriRoll']\n",
    "x=df_sorted_9Hz[input_features]\n",
    "y=df_sorted_9Hz[output_features]"
   ]
  },
  {
   "cell_type": "code",
   "execution_count": 8,
   "id": "3cfa0b7e",
   "metadata": {},
   "outputs": [],
   "source": [
    "## -- Split train/test values -- ##\n",
    "x_train, x_test, y_train, y_test = train_test_split(x,y,test_size=0.2)"
   ]
  },
  {
   "cell_type": "code",
   "execution_count": 9,
   "id": "9d6f2a1f",
   "metadata": {},
   "outputs": [],
   "source": [
    "## -- Define variables for test/train -- ##\n",
    "armYaw_pred_train, elbPitch_pred_train, forearmYaw_pred_train, wriPitch_pred_train, wriRoll_pred_train = y_train['armYaw'],y_train['elbPitch'],y_train['forearmYaw'],y_train['wriPitch'],y_train['wriRoll']\n",
    "armYaw_pred_test, elbPitch_pred_test, forearmYaw_pred_test, wriPitch_pred_test, wriRoll_pred_test = y_test['armYaw'],y_test['elbPitch'],y_test['forearmYaw'],y_test['wriPitch'],y_test['wriRoll']"
   ]
  },
  {
   "cell_type": "code",
   "execution_count": 10,
   "id": "2e009df7",
   "metadata": {},
   "outputs": [],
   "source": [
    "## -- Define outputs test/train -- ##\n",
    "output_train = [armYaw_pred_train, elbPitch_pred_train, forearmYaw_pred_train, wriPitch_pred_train,wriRoll_pred_train]\n",
    "output_test = [armYaw_pred_test, elbPitch_pred_test, forearmYaw_pred_test, wriPitch_pred_test, wriRoll_pred_test]"
   ]
  },
  {
   "cell_type": "code",
   "execution_count": 12,
   "id": "c09a5b8c",
   "metadata": {},
   "outputs": [],
   "source": [
    "#model.fit(x_train, output_train, validation_data=(x_test,output_test ), epochs = 3)"
   ]
  },
  {
   "cell_type": "code",
   "execution_count": 21,
   "id": "020c3f32",
   "metadata": {},
   "outputs": [],
   "source": [
    "## -- Define model -- ##\n",
    "model = models.Sequential()\n",
    "\n",
    "model.add(layers.Dense(x_train.shape[1], activation='relu'))\n",
    "model.add(layers.Dense(256, activation='relu'))\n",
    "model.add(layers.Dense(128, activation='relu'))\n",
    "model.add(layers.Dense(64, activation='relu'))\n",
    "model.add(layers.Dense(y_train.shape[1], activation='linear'))\n"
   ]
  },
  {
   "cell_type": "code",
   "execution_count": 22,
   "id": "26d7092b",
   "metadata": {},
   "outputs": [],
   "source": [
    "## -- Compile model -- ##\n",
    "model.compile(optimizer=optimizers.Adam(), loss='mse',metrics=['accuracy'])"
   ]
  },
  {
   "cell_type": "code",
   "execution_count": 25,
   "id": "437bd980",
   "metadata": {},
   "outputs": [
    {
     "name": "stdout",
     "output_type": "stream",
     "text": [
      "Epoch 1/100\n",
      "236/236 [==============================] - 1s 4ms/step - loss: 0.0124 - accuracy: 0.9496 - val_loss: 0.0124 - val_accuracy: 0.9540\n",
      "Epoch 2/100\n",
      "236/236 [==============================] - 1s 3ms/step - loss: 0.0123 - accuracy: 0.9494 - val_loss: 0.0125 - val_accuracy: 0.9515\n",
      "Epoch 3/100\n",
      "236/236 [==============================] - 1s 3ms/step - loss: 0.0122 - accuracy: 0.9503 - val_loss: 0.0127 - val_accuracy: 0.9540\n",
      "Epoch 4/100\n",
      "236/236 [==============================] - 1s 3ms/step - loss: 0.0120 - accuracy: 0.9515 - val_loss: 0.0126 - val_accuracy: 0.9521\n",
      "Epoch 5/100\n",
      "236/236 [==============================] - 1s 3ms/step - loss: 0.0120 - accuracy: 0.9515 - val_loss: 0.0125 - val_accuracy: 0.9503\n",
      "Epoch 6/100\n",
      "236/236 [==============================] - 1s 3ms/step - loss: 0.0118 - accuracy: 0.9517 - val_loss: 0.0123 - val_accuracy: 0.9542\n",
      "Epoch 7/100\n",
      "236/236 [==============================] - 1s 3ms/step - loss: 0.0117 - accuracy: 0.9517 - val_loss: 0.0124 - val_accuracy: 0.9533\n",
      "Epoch 8/100\n",
      "236/236 [==============================] - 1s 3ms/step - loss: 0.0118 - accuracy: 0.9505 - val_loss: 0.0119 - val_accuracy: 0.9534\n",
      "Epoch 9/100\n",
      "236/236 [==============================] - 1s 3ms/step - loss: 0.0117 - accuracy: 0.9514 - val_loss: 0.0119 - val_accuracy: 0.9533\n",
      "Epoch 10/100\n",
      "236/236 [==============================] - 1s 3ms/step - loss: 0.0115 - accuracy: 0.9522 - val_loss: 0.0123 - val_accuracy: 0.9526\n",
      "Epoch 11/100\n",
      "236/236 [==============================] - 1s 3ms/step - loss: 0.0115 - accuracy: 0.9517 - val_loss: 0.0125 - val_accuracy: 0.9513\n",
      "Epoch 12/100\n",
      "236/236 [==============================] - 1s 3ms/step - loss: 0.0113 - accuracy: 0.9530 - val_loss: 0.0120 - val_accuracy: 0.9428\n",
      "Epoch 13/100\n",
      "236/236 [==============================] - 1s 3ms/step - loss: 0.0112 - accuracy: 0.9524 - val_loss: 0.0125 - val_accuracy: 0.9516\n",
      "Epoch 14/100\n",
      "236/236 [==============================] - 1s 3ms/step - loss: 0.0113 - accuracy: 0.9516 - val_loss: 0.0120 - val_accuracy: 0.9493\n",
      "Epoch 15/100\n",
      "236/236 [==============================] - 1s 3ms/step - loss: 0.0112 - accuracy: 0.9526 - val_loss: 0.0118 - val_accuracy: 0.9552\n",
      "Epoch 16/100\n",
      "236/236 [==============================] - 1s 3ms/step - loss: 0.0110 - accuracy: 0.9530 - val_loss: 0.0128 - val_accuracy: 0.9529\n",
      "Epoch 17/100\n",
      "236/236 [==============================] - 1s 3ms/step - loss: 0.0111 - accuracy: 0.9524 - val_loss: 0.0117 - val_accuracy: 0.9563\n",
      "Epoch 18/100\n",
      "236/236 [==============================] - 1s 3ms/step - loss: 0.0110 - accuracy: 0.9531 - val_loss: 0.0122 - val_accuracy: 0.9519\n",
      "Epoch 19/100\n",
      "236/236 [==============================] - 1s 3ms/step - loss: 0.0109 - accuracy: 0.9519 - val_loss: 0.0117 - val_accuracy: 0.9529\n",
      "Epoch 20/100\n",
      "236/236 [==============================] - 1s 3ms/step - loss: 0.0109 - accuracy: 0.9537 - val_loss: 0.0118 - val_accuracy: 0.9534\n",
      "Epoch 21/100\n",
      "236/236 [==============================] - 1s 3ms/step - loss: 0.0109 - accuracy: 0.9538 - val_loss: 0.0116 - val_accuracy: 0.9537\n",
      "Epoch 22/100\n",
      "236/236 [==============================] - 1s 3ms/step - loss: 0.0107 - accuracy: 0.9539 - val_loss: 0.0116 - val_accuracy: 0.9537\n",
      "Epoch 23/100\n",
      "236/236 [==============================] - 1s 3ms/step - loss: 0.0106 - accuracy: 0.9543 - val_loss: 0.0112 - val_accuracy: 0.9555\n",
      "Epoch 24/100\n",
      "236/236 [==============================] - 1s 4ms/step - loss: 0.0106 - accuracy: 0.9543 - val_loss: 0.0119 - val_accuracy: 0.9498\n",
      "Epoch 25/100\n",
      "236/236 [==============================] - 1s 3ms/step - loss: 0.0107 - accuracy: 0.9536 - val_loss: 0.0125 - val_accuracy: 0.9515\n",
      "Epoch 26/100\n",
      "236/236 [==============================] - 1s 3ms/step - loss: 0.0106 - accuracy: 0.9539 - val_loss: 0.0113 - val_accuracy: 0.9585\n",
      "Epoch 27/100\n",
      "236/236 [==============================] - 1s 4ms/step - loss: 0.0105 - accuracy: 0.9547 - val_loss: 0.0120 - val_accuracy: 0.9509\n",
      "Epoch 28/100\n",
      "236/236 [==============================] - 1s 4ms/step - loss: 0.0105 - accuracy: 0.9541 - val_loss: 0.0111 - val_accuracy: 0.9499\n",
      "Epoch 29/100\n",
      "236/236 [==============================] - 1s 4ms/step - loss: 0.0104 - accuracy: 0.9538 - val_loss: 0.0111 - val_accuracy: 0.9554\n",
      "Epoch 30/100\n",
      "236/236 [==============================] - 1s 4ms/step - loss: 0.0104 - accuracy: 0.9547 - val_loss: 0.0107 - val_accuracy: 0.9576\n",
      "Epoch 31/100\n",
      "236/236 [==============================] - 1s 3ms/step - loss: 0.0103 - accuracy: 0.9546 - val_loss: 0.0118 - val_accuracy: 0.9502\n",
      "Epoch 32/100\n",
      "236/236 [==============================] - 1s 4ms/step - loss: 0.0103 - accuracy: 0.9534 - val_loss: 0.0108 - val_accuracy: 0.9564\n",
      "Epoch 33/100\n",
      "236/236 [==============================] - 1s 4ms/step - loss: 0.0102 - accuracy: 0.9543 - val_loss: 0.0107 - val_accuracy: 0.9537\n",
      "Epoch 34/100\n",
      "236/236 [==============================] - 1s 4ms/step - loss: 0.0102 - accuracy: 0.9541 - val_loss: 0.0110 - val_accuracy: 0.9513\n",
      "Epoch 35/100\n",
      "236/236 [==============================] - 1s 4ms/step - loss: 0.0101 - accuracy: 0.9550 - val_loss: 0.0109 - val_accuracy: 0.9549\n",
      "Epoch 36/100\n",
      "236/236 [==============================] - 1s 4ms/step - loss: 0.0101 - accuracy: 0.9548 - val_loss: 0.0111 - val_accuracy: 0.9575\n",
      "Epoch 37/100\n",
      "236/236 [==============================] - 1s 4ms/step - loss: 0.0102 - accuracy: 0.9550 - val_loss: 0.0106 - val_accuracy: 0.9600\n",
      "Epoch 38/100\n",
      "236/236 [==============================] - 1s 4ms/step - loss: 0.0100 - accuracy: 0.9557 - val_loss: 0.0106 - val_accuracy: 0.9568\n",
      "Epoch 39/100\n",
      "236/236 [==============================] - 1s 4ms/step - loss: 0.0100 - accuracy: 0.9556 - val_loss: 0.0109 - val_accuracy: 0.9551\n",
      "Epoch 40/100\n",
      "236/236 [==============================] - 1s 4ms/step - loss: 0.0099 - accuracy: 0.9550 - val_loss: 0.0108 - val_accuracy: 0.9528\n",
      "Epoch 41/100\n",
      "236/236 [==============================] - 1s 4ms/step - loss: 0.0098 - accuracy: 0.9552 - val_loss: 0.0104 - val_accuracy: 0.9559\n",
      "Epoch 42/100\n",
      "236/236 [==============================] - 1s 3ms/step - loss: 0.0099 - accuracy: 0.9545 - val_loss: 0.0105 - val_accuracy: 0.9594\n",
      "Epoch 43/100\n",
      "236/236 [==============================] - 1s 3ms/step - loss: 0.0098 - accuracy: 0.9552 - val_loss: 0.0108 - val_accuracy: 0.9516\n",
      "Epoch 44/100\n",
      "236/236 [==============================] - 1s 3ms/step - loss: 0.0097 - accuracy: 0.9551 - val_loss: 0.0101 - val_accuracy: 0.9593\n",
      "Epoch 45/100\n",
      "236/236 [==============================] - 1s 3ms/step - loss: 0.0097 - accuracy: 0.9564 - val_loss: 0.0103 - val_accuracy: 0.9559\n",
      "Epoch 46/100\n",
      "236/236 [==============================] - 1s 4ms/step - loss: 0.0096 - accuracy: 0.9563 - val_loss: 0.0110 - val_accuracy: 0.9586\n",
      "Epoch 47/100\n",
      "236/236 [==============================] - 1s 3ms/step - loss: 0.0098 - accuracy: 0.9561 - val_loss: 0.0107 - val_accuracy: 0.9527\n",
      "Epoch 48/100\n",
      "236/236 [==============================] - 1s 3ms/step - loss: 0.0096 - accuracy: 0.9563 - val_loss: 0.0120 - val_accuracy: 0.9539\n",
      "Epoch 49/100\n",
      "236/236 [==============================] - 1s 4ms/step - loss: 0.0096 - accuracy: 0.9556 - val_loss: 0.0112 - val_accuracy: 0.9546\n",
      "Epoch 50/100\n",
      "236/236 [==============================] - 1s 3ms/step - loss: 0.0096 - accuracy: 0.9562 - val_loss: 0.0109 - val_accuracy: 0.9551\n",
      "Epoch 51/100\n",
      "236/236 [==============================] - 1s 3ms/step - loss: 0.0095 - accuracy: 0.9565 - val_loss: 0.0114 - val_accuracy: 0.9517\n",
      "Epoch 52/100\n",
      "236/236 [==============================] - 1s 3ms/step - loss: 0.0095 - accuracy: 0.9572 - val_loss: 0.0120 - val_accuracy: 0.9517\n",
      "Epoch 53/100\n",
      "236/236 [==============================] - 1s 3ms/step - loss: 0.0097 - accuracy: 0.9545 - val_loss: 0.0111 - val_accuracy: 0.9570\n",
      "Epoch 54/100\n",
      "236/236 [==============================] - 1s 3ms/step - loss: 0.0093 - accuracy: 0.9572 - val_loss: 0.0113 - val_accuracy: 0.9496\n",
      "Epoch 55/100\n",
      "236/236 [==============================] - 1s 3ms/step - loss: 0.0093 - accuracy: 0.9563 - val_loss: 0.0103 - val_accuracy: 0.9565\n",
      "Epoch 56/100\n",
      "236/236 [==============================] - 1s 3ms/step - loss: 0.0093 - accuracy: 0.9562 - val_loss: 0.0102 - val_accuracy: 0.9530\n",
      "Epoch 57/100\n",
      "236/236 [==============================] - 1s 3ms/step - loss: 0.0093 - accuracy: 0.9570 - val_loss: 0.0102 - val_accuracy: 0.9555\n"
     ]
    },
    {
     "name": "stdout",
     "output_type": "stream",
     "text": [
      "Epoch 58/100\n",
      "236/236 [==============================] - 1s 4ms/step - loss: 0.0092 - accuracy: 0.9558 - val_loss: 0.0110 - val_accuracy: 0.9464\n",
      "Epoch 59/100\n",
      "236/236 [==============================] - 1s 4ms/step - loss: 0.0093 - accuracy: 0.9564 - val_loss: 0.0103 - val_accuracy: 0.9609\n",
      "Epoch 60/100\n",
      "236/236 [==============================] - 1s 4ms/step - loss: 0.0092 - accuracy: 0.9573 - val_loss: 0.0112 - val_accuracy: 0.9570\n",
      "Epoch 61/100\n",
      "236/236 [==============================] - 1s 3ms/step - loss: 0.0092 - accuracy: 0.9570 - val_loss: 0.0102 - val_accuracy: 0.9530\n",
      "Epoch 62/100\n",
      "236/236 [==============================] - 1s 4ms/step - loss: 0.0091 - accuracy: 0.9568 - val_loss: 0.0101 - val_accuracy: 0.9581\n",
      "Epoch 63/100\n",
      "236/236 [==============================] - 1s 3ms/step - loss: 0.0091 - accuracy: 0.9571 - val_loss: 0.0101 - val_accuracy: 0.9581\n",
      "Epoch 64/100\n",
      "236/236 [==============================] - 1s 4ms/step - loss: 0.0092 - accuracy: 0.9562 - val_loss: 0.0116 - val_accuracy: 0.9577\n",
      "Epoch 65/100\n",
      "236/236 [==============================] - 1s 3ms/step - loss: 0.0090 - accuracy: 0.9564 - val_loss: 0.0099 - val_accuracy: 0.9600\n",
      "Epoch 66/100\n",
      "236/236 [==============================] - 1s 3ms/step - loss: 0.0090 - accuracy: 0.9574 - val_loss: 0.0100 - val_accuracy: 0.9545\n",
      "Epoch 67/100\n",
      "236/236 [==============================] - 1s 3ms/step - loss: 0.0089 - accuracy: 0.9574 - val_loss: 0.0116 - val_accuracy: 0.9546\n",
      "Epoch 68/100\n",
      "236/236 [==============================] - 1s 3ms/step - loss: 0.0089 - accuracy: 0.9576 - val_loss: 0.0099 - val_accuracy: 0.9583\n",
      "Epoch 69/100\n",
      "236/236 [==============================] - 1s 3ms/step - loss: 0.0089 - accuracy: 0.9571 - val_loss: 0.0096 - val_accuracy: 0.9610\n",
      "Epoch 70/100\n",
      "236/236 [==============================] - 1s 3ms/step - loss: 0.0088 - accuracy: 0.9574 - val_loss: 0.0097 - val_accuracy: 0.9614\n",
      "Epoch 71/100\n",
      "236/236 [==============================] - 1s 3ms/step - loss: 0.0088 - accuracy: 0.9571 - val_loss: 0.0096 - val_accuracy: 0.9555\n",
      "Epoch 72/100\n",
      "236/236 [==============================] - 1s 3ms/step - loss: 0.0088 - accuracy: 0.9577 - val_loss: 0.0099 - val_accuracy: 0.9608\n",
      "Epoch 73/100\n",
      "236/236 [==============================] - 1s 3ms/step - loss: 0.0088 - accuracy: 0.9572 - val_loss: 0.0106 - val_accuracy: 0.9581\n",
      "Epoch 74/100\n",
      "236/236 [==============================] - 1s 3ms/step - loss: 0.0087 - accuracy: 0.9576 - val_loss: 0.0093 - val_accuracy: 0.9593\n",
      "Epoch 75/100\n",
      "236/236 [==============================] - 1s 3ms/step - loss: 0.0088 - accuracy: 0.9571 - val_loss: 0.0097 - val_accuracy: 0.9567\n",
      "Epoch 76/100\n",
      "236/236 [==============================] - 1s 3ms/step - loss: 0.0087 - accuracy: 0.9574 - val_loss: 0.0098 - val_accuracy: 0.9585\n",
      "Epoch 77/100\n",
      "236/236 [==============================] - 1s 3ms/step - loss: 0.0087 - accuracy: 0.9568 - val_loss: 0.0102 - val_accuracy: 0.9591\n",
      "Epoch 78/100\n",
      "236/236 [==============================] - 1s 3ms/step - loss: 0.0086 - accuracy: 0.9578 - val_loss: 0.0097 - val_accuracy: 0.9595\n",
      "Epoch 79/100\n",
      "236/236 [==============================] - 1s 3ms/step - loss: 0.0087 - accuracy: 0.9575 - val_loss: 0.0097 - val_accuracy: 0.9531\n",
      "Epoch 80/100\n",
      "236/236 [==============================] - 1s 3ms/step - loss: 0.0086 - accuracy: 0.9578 - val_loss: 0.0111 - val_accuracy: 0.9448\n",
      "Epoch 81/100\n",
      "236/236 [==============================] - 1s 3ms/step - loss: 0.0086 - accuracy: 0.9581 - val_loss: 0.0107 - val_accuracy: 0.9511\n",
      "Epoch 82/100\n",
      "236/236 [==============================] - 1s 3ms/step - loss: 0.0086 - accuracy: 0.9580 - val_loss: 0.0096 - val_accuracy: 0.9604\n",
      "Epoch 83/100\n",
      "236/236 [==============================] - 1s 3ms/step - loss: 0.0085 - accuracy: 0.9573 - val_loss: 0.0100 - val_accuracy: 0.9609\n",
      "Epoch 84/100\n",
      "236/236 [==============================] - 1s 3ms/step - loss: 0.0085 - accuracy: 0.9582 - val_loss: 0.0092 - val_accuracy: 0.9593\n",
      "Epoch 85/100\n",
      "236/236 [==============================] - 1s 3ms/step - loss: 0.0084 - accuracy: 0.9580 - val_loss: 0.0093 - val_accuracy: 0.9610\n",
      "Epoch 86/100\n",
      "236/236 [==============================] - 1s 3ms/step - loss: 0.0085 - accuracy: 0.9581 - val_loss: 0.0093 - val_accuracy: 0.9608\n",
      "Epoch 87/100\n",
      "236/236 [==============================] - 1s 3ms/step - loss: 0.0085 - accuracy: 0.9581 - val_loss: 0.0099 - val_accuracy: 0.9610\n",
      "Epoch 88/100\n",
      "236/236 [==============================] - 1s 3ms/step - loss: 0.0085 - accuracy: 0.9582 - val_loss: 0.0095 - val_accuracy: 0.9570\n",
      "Epoch 89/100\n",
      "236/236 [==============================] - 1s 4ms/step - loss: 0.0083 - accuracy: 0.9579 - val_loss: 0.0097 - val_accuracy: 0.9577\n",
      "Epoch 90/100\n",
      "236/236 [==============================] - 1s 3ms/step - loss: 0.0084 - accuracy: 0.9574 - val_loss: 0.0095 - val_accuracy: 0.9592\n",
      "Epoch 91/100\n",
      "236/236 [==============================] - 1s 3ms/step - loss: 0.0082 - accuracy: 0.9578 - val_loss: 0.0092 - val_accuracy: 0.9586\n",
      "Epoch 92/100\n",
      "236/236 [==============================] - 1s 3ms/step - loss: 0.0083 - accuracy: 0.9578 - val_loss: 0.0092 - val_accuracy: 0.9584\n",
      "Epoch 93/100\n",
      "236/236 [==============================] - 1s 3ms/step - loss: 0.0083 - accuracy: 0.9578 - val_loss: 0.0095 - val_accuracy: 0.9614\n",
      "Epoch 94/100\n",
      "236/236 [==============================] - 1s 3ms/step - loss: 0.0082 - accuracy: 0.9585 - val_loss: 0.0090 - val_accuracy: 0.9603\n",
      "Epoch 95/100\n",
      "236/236 [==============================] - 1s 3ms/step - loss: 0.0081 - accuracy: 0.9589 - val_loss: 0.0091 - val_accuracy: 0.9601\n",
      "Epoch 96/100\n",
      "236/236 [==============================] - 1s 3ms/step - loss: 0.0082 - accuracy: 0.9586 - val_loss: 0.0105 - val_accuracy: 0.9566\n",
      "Epoch 97/100\n",
      "236/236 [==============================] - 1s 3ms/step - loss: 0.0081 - accuracy: 0.9588 - val_loss: 0.0099 - val_accuracy: 0.9514\n",
      "Epoch 98/100\n",
      "236/236 [==============================] - 1s 4ms/step - loss: 0.0082 - accuracy: 0.9580 - val_loss: 0.0097 - val_accuracy: 0.9574\n",
      "Epoch 99/100\n",
      "236/236 [==============================] - 1s 3ms/step - loss: 0.0081 - accuracy: 0.9582 - val_loss: 0.0090 - val_accuracy: 0.9575\n",
      "Epoch 100/100\n",
      "236/236 [==============================] - 1s 3ms/step - loss: 0.0081 - accuracy: 0.9585 - val_loss: 0.0096 - val_accuracy: 0.9575\n"
     ]
    },
    {
     "data": {
      "text/plain": [
       "<keras.callbacks.History at 0x23f17fbbf70>"
      ]
     },
     "execution_count": 25,
     "metadata": {},
     "output_type": "execute_result"
    }
   ],
   "source": [
    "## -- Train model -- ##\n",
    "model.fit(x_train, y_train, validation_data=(x_test,y_test ), epochs=100,batch_size=300)"
   ]
  },
  {
   "cell_type": "code",
   "execution_count": 26,
   "id": "a7808fbb",
   "metadata": {},
   "outputs": [
    {
     "name": "stdout",
     "output_type": "stream",
     "text": [
      "552/552 [==============================] - 1s 1ms/step - loss: 0.0096 - accuracy: 0.9575\n",
      "Resultats apprentissage\n",
      "Valeur perte finale (loss) 0.009623201563954353\n",
      "Valeur de la précision(accuracy)) 0.9575252532958984\n"
     ]
    }
   ],
   "source": [
    "## -- Print model's accuracy -- ##\n",
    "results = model.evaluate(x_test, y_test)\n",
    "print('Resultats apprentissage')\n",
    "print ('Valeur perte finale (loss)', results[0])\n",
    "print ('Valeur de la précision(accuracy))', results[1])"
   ]
  },
  {
   "cell_type": "code",
   "execution_count": null,
   "id": "6a3107b8",
   "metadata": {},
   "outputs": [],
   "source": []
  }
 ],
 "metadata": {
  "kernelspec": {
   "display_name": "Python 3 (ipykernel)",
   "language": "python",
   "name": "python3"
  },
  "language_info": {
   "codemirror_mode": {
    "name": "ipython",
    "version": 3
   },
   "file_extension": ".py",
   "mimetype": "text/x-python",
   "name": "python",
   "nbconvert_exporter": "python",
   "pygments_lexer": "ipython3",
   "version": "3.9.7"
  }
 },
 "nbformat": 4,
 "nbformat_minor": 5
}
